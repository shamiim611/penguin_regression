{
 "cells": [
  {
   "cell_type": "code",
   "execution_count": 1,
   "id": "1a1134df-1f11-4f5f-ad5d-5bc290462807",
   "metadata": {},
   "outputs": [
    {
     "data": {
      "text/html": [
       "<div>\n",
       "<style scoped>\n",
       "    .dataframe tbody tr th:only-of-type {\n",
       "        vertical-align: middle;\n",
       "    }\n",
       "\n",
       "    .dataframe tbody tr th {\n",
       "        vertical-align: top;\n",
       "    }\n",
       "\n",
       "    .dataframe thead th {\n",
       "        text-align: right;\n",
       "    }\n",
       "</style>\n",
       "<table border=\"1\" class=\"dataframe\">\n",
       "  <thead>\n",
       "    <tr style=\"text-align: right;\">\n",
       "      <th></th>\n",
       "      <th>studyName</th>\n",
       "      <th>Sample Number</th>\n",
       "      <th>Species</th>\n",
       "      <th>Region</th>\n",
       "      <th>Island</th>\n",
       "      <th>Stage</th>\n",
       "      <th>Individual ID</th>\n",
       "      <th>Clutch Completion</th>\n",
       "      <th>Date Egg</th>\n",
       "      <th>Culmen Length (mm)</th>\n",
       "      <th>Culmen Depth (mm)</th>\n",
       "      <th>Flipper Length (mm)</th>\n",
       "      <th>Body Mass (g)</th>\n",
       "      <th>Sex</th>\n",
       "      <th>Delta 15 N (o/oo)</th>\n",
       "      <th>Delta 13 C (o/oo)</th>\n",
       "      <th>Comments</th>\n",
       "    </tr>\n",
       "  </thead>\n",
       "  <tbody>\n",
       "    <tr>\n",
       "      <th>0</th>\n",
       "      <td>PAL0708</td>\n",
       "      <td>1</td>\n",
       "      <td>Adelie Penguin (Pygoscelis adeliae)</td>\n",
       "      <td>Anvers</td>\n",
       "      <td>Torgersen</td>\n",
       "      <td>Adult, 1 Egg Stage</td>\n",
       "      <td>N1A1</td>\n",
       "      <td>Yes</td>\n",
       "      <td>2007-11-11</td>\n",
       "      <td>39.1</td>\n",
       "      <td>18.7</td>\n",
       "      <td>181.0</td>\n",
       "      <td>3750.0</td>\n",
       "      <td>MALE</td>\n",
       "      <td>NaN</td>\n",
       "      <td>NaN</td>\n",
       "      <td>Not enough blood for isotopes.</td>\n",
       "    </tr>\n",
       "    <tr>\n",
       "      <th>1</th>\n",
       "      <td>PAL0708</td>\n",
       "      <td>2</td>\n",
       "      <td>Adelie Penguin (Pygoscelis adeliae)</td>\n",
       "      <td>Anvers</td>\n",
       "      <td>Torgersen</td>\n",
       "      <td>Adult, 1 Egg Stage</td>\n",
       "      <td>N1A2</td>\n",
       "      <td>Yes</td>\n",
       "      <td>2007-11-11</td>\n",
       "      <td>39.5</td>\n",
       "      <td>17.4</td>\n",
       "      <td>186.0</td>\n",
       "      <td>3800.0</td>\n",
       "      <td>FEMALE</td>\n",
       "      <td>8.94956</td>\n",
       "      <td>-24.69454</td>\n",
       "      <td>NaN</td>\n",
       "    </tr>\n",
       "    <tr>\n",
       "      <th>2</th>\n",
       "      <td>PAL0708</td>\n",
       "      <td>3</td>\n",
       "      <td>Adelie Penguin (Pygoscelis adeliae)</td>\n",
       "      <td>Anvers</td>\n",
       "      <td>Torgersen</td>\n",
       "      <td>Adult, 1 Egg Stage</td>\n",
       "      <td>N2A1</td>\n",
       "      <td>Yes</td>\n",
       "      <td>2007-11-16</td>\n",
       "      <td>40.3</td>\n",
       "      <td>18.0</td>\n",
       "      <td>195.0</td>\n",
       "      <td>3250.0</td>\n",
       "      <td>FEMALE</td>\n",
       "      <td>8.36821</td>\n",
       "      <td>-25.33302</td>\n",
       "      <td>NaN</td>\n",
       "    </tr>\n",
       "    <tr>\n",
       "      <th>3</th>\n",
       "      <td>PAL0708</td>\n",
       "      <td>4</td>\n",
       "      <td>Adelie Penguin (Pygoscelis adeliae)</td>\n",
       "      <td>Anvers</td>\n",
       "      <td>Torgersen</td>\n",
       "      <td>Adult, 1 Egg Stage</td>\n",
       "      <td>N2A2</td>\n",
       "      <td>Yes</td>\n",
       "      <td>2007-11-16</td>\n",
       "      <td>NaN</td>\n",
       "      <td>NaN</td>\n",
       "      <td>NaN</td>\n",
       "      <td>NaN</td>\n",
       "      <td>NaN</td>\n",
       "      <td>NaN</td>\n",
       "      <td>NaN</td>\n",
       "      <td>Adult not sampled.</td>\n",
       "    </tr>\n",
       "    <tr>\n",
       "      <th>4</th>\n",
       "      <td>PAL0708</td>\n",
       "      <td>5</td>\n",
       "      <td>Adelie Penguin (Pygoscelis adeliae)</td>\n",
       "      <td>Anvers</td>\n",
       "      <td>Torgersen</td>\n",
       "      <td>Adult, 1 Egg Stage</td>\n",
       "      <td>N3A1</td>\n",
       "      <td>Yes</td>\n",
       "      <td>2007-11-16</td>\n",
       "      <td>36.7</td>\n",
       "      <td>19.3</td>\n",
       "      <td>193.0</td>\n",
       "      <td>3450.0</td>\n",
       "      <td>FEMALE</td>\n",
       "      <td>8.76651</td>\n",
       "      <td>-25.32426</td>\n",
       "      <td>NaN</td>\n",
       "    </tr>\n",
       "  </tbody>\n",
       "</table>\n",
       "</div>"
      ],
      "text/plain": [
       "  studyName  Sample Number                              Species  Region  \\\n",
       "0   PAL0708              1  Adelie Penguin (Pygoscelis adeliae)  Anvers   \n",
       "1   PAL0708              2  Adelie Penguin (Pygoscelis adeliae)  Anvers   \n",
       "2   PAL0708              3  Adelie Penguin (Pygoscelis adeliae)  Anvers   \n",
       "3   PAL0708              4  Adelie Penguin (Pygoscelis adeliae)  Anvers   \n",
       "4   PAL0708              5  Adelie Penguin (Pygoscelis adeliae)  Anvers   \n",
       "\n",
       "      Island               Stage Individual ID Clutch Completion    Date Egg  \\\n",
       "0  Torgersen  Adult, 1 Egg Stage          N1A1               Yes  2007-11-11   \n",
       "1  Torgersen  Adult, 1 Egg Stage          N1A2               Yes  2007-11-11   \n",
       "2  Torgersen  Adult, 1 Egg Stage          N2A1               Yes  2007-11-16   \n",
       "3  Torgersen  Adult, 1 Egg Stage          N2A2               Yes  2007-11-16   \n",
       "4  Torgersen  Adult, 1 Egg Stage          N3A1               Yes  2007-11-16   \n",
       "\n",
       "   Culmen Length (mm)  Culmen Depth (mm)  Flipper Length (mm)  Body Mass (g)  \\\n",
       "0                39.1               18.7                181.0         3750.0   \n",
       "1                39.5               17.4                186.0         3800.0   \n",
       "2                40.3               18.0                195.0         3250.0   \n",
       "3                 NaN                NaN                  NaN            NaN   \n",
       "4                36.7               19.3                193.0         3450.0   \n",
       "\n",
       "      Sex  Delta 15 N (o/oo)  Delta 13 C (o/oo)  \\\n",
       "0    MALE                NaN                NaN   \n",
       "1  FEMALE            8.94956          -24.69454   \n",
       "2  FEMALE            8.36821          -25.33302   \n",
       "3     NaN                NaN                NaN   \n",
       "4  FEMALE            8.76651          -25.32426   \n",
       "\n",
       "                         Comments  \n",
       "0  Not enough blood for isotopes.  \n",
       "1                             NaN  \n",
       "2                             NaN  \n",
       "3              Adult not sampled.  \n",
       "4                             NaN  "
      ]
     },
     "execution_count": 1,
     "metadata": {},
     "output_type": "execute_result"
    }
   ],
   "source": [
    "import pandas as pd\n",
    "\n",
    "# URIs for the data\n",
    "uri_adelie = \"https://portal.edirepository.org/nis/dataviewer?packageid=knb-lter-pal.219.3&entityid=002f3893385f710df69eeebe893144ff\"\n",
    "uri_gentoo = \"https://portal.edirepository.org/nis/dataviewer?packageid=knb-lter-pal.220.3&entityid=e03b43c924f226486f2f0ab6709d2381\"\n",
    "uri_chinstrap = \"https://portal.edirepository.org/nis/dataviewer?packageid=knb-lter-pal.221.2&entityid=fe853aa8f7a59aa84cdd3197619ef462\"\n",
    "\n",
    "# Combine URIs into a list\n",
    "uris = [uri_adelie, uri_gentoo, uri_chinstrap]\n",
    "\n",
    "# Download and combine data into a single DataFrame\n",
    "penguin_raw = pd.concat(\n",
    "    [pd.read_csv(uri, na_values=[\"\", \"NA\", \".\"]) for uri in uris], \n",
    "    ignore_index=True\n",
    ")\n",
    "\n",
    "# Save the combined DataFrame to a CSV file\n",
    "penguin_raw.to_csv(\"penguins_raw.csv\", index=False)\n",
    "\n",
    "# Display the first few rows of the combined DataFrame\n",
    "penguin_raw.head()\n"
   ]
  },
  {
   "cell_type": "markdown",
   "id": "5ec3da95-aa7b-44ee-8512-b819f2b88bb0",
   "metadata": {},
   "source": [
    "## data cleaning and EDA"
   ]
  },
  {
   "cell_type": "code",
   "execution_count": 3,
   "id": "563b51e3-ebbc-4dad-8e34-8faec063c83f",
   "metadata": {},
   "outputs": [],
   "source": [
    "#function to do data cleaning\n",
    "def wrangle (penguin_raw):\n",
    "    #delete the comments column\n",
    "    penguin_raw.drop(columns ='Comments', inplace = True)\n",
    "    #extract date,month, year\n",
    "    penguin_raw['Date Egg']= pd.to_datetime(penguin_raw['Date Egg'])\n",
    "    penguin_raw['year'] = penguin_raw['Date Egg'].dt.year\n",
    "    penguin_raw['month'] = penguin_raw['Date Egg'].dt.month\n",
    "    penguin_raw['day'] = penguin_raw['Date Egg'].dt.day\n",
    "    penguin_raw.drop(columns ='Date Egg', inplace = True)\n",
    "    #delete non informative features\n",
    "    penguin_raw.drop(columns =['Region','Stage','Individual ID','studyName'], inplace = True)\n",
    "    penguin_raw.drop(columns = ['Sample Number','year','month', 'Island'], inplace = True)\n",
    "    #handle missing values\n",
    "    # Fill missing values with the mean\n",
    "    penguin_raw['Body Mass (g)'] = penguin_raw['Body Mass (g)'].fillna(penguin_raw['Body Mass (g)'].mean())\n",
    "    penguin_raw['Culmen Length (mm)'] = penguin_raw['Culmen Length (mm)'].fillna(penguin_raw['Culmen Length (mm)'].mean())\n",
    "    penguin_raw['Culmen Depth (mm)'] = penguin_raw['Culmen Depth (mm)'].fillna(penguin_raw['Culmen Depth (mm)'].mean())\n",
    "    penguin_raw['Flipper Length (mm)'] = penguin_raw['Flipper Length (mm)'].fillna(penguin_raw['Flipper Length (mm)'].mean())\n",
    "    penguin_raw['Delta 15 N (o/oo)'] = penguin_raw['Delta 15 N (o/oo)'].fillna(penguin_raw['Delta 15 N (o/oo)'].mean())\n",
    "    penguin_raw['Delta 13 C (o/oo)'] = penguin_raw['Delta 13 C (o/oo)'].fillna(penguin_raw['Delta 13 C (o/oo)'].mean())\n",
    "    #fill missing values \n",
    "    #we are using mode because the proportin of male is close to female\n",
    "    mode_value = penguin_raw['Sex'].mode()[0]\n",
    "    penguin_raw['Sex'].fillna(mode_value, inplace=True)\n",
    "    #drop features that are not contributing to the model basing on correlation, feature importance $ coefficients\n",
    "    #penguin_raw.drop(columns =['Sex','year','month'], inplace = True)\n",
    "    \n",
    "    return penguin_raw"
   ]
  },
  {
   "cell_type": "code",
   "execution_count": 4,
   "id": "6c142957-ae15-4f77-b6ba-624d1ce35e64",
   "metadata": {},
   "outputs": [
    {
     "name": "stdout",
     "output_type": "stream",
     "text": [
      "<class 'pandas.core.frame.DataFrame'>\n",
      "RangeIndex: 344 entries, 0 to 343\n",
      "Data columns (total 10 columns):\n",
      " #   Column               Non-Null Count  Dtype  \n",
      "---  ------               --------------  -----  \n",
      " 0   Species              344 non-null    object \n",
      " 1   Clutch Completion    344 non-null    object \n",
      " 2   Culmen Length (mm)   344 non-null    float64\n",
      " 3   Culmen Depth (mm)    344 non-null    float64\n",
      " 4   Flipper Length (mm)  344 non-null    float64\n",
      " 5   Body Mass (g)        344 non-null    float64\n",
      " 6   Sex                  344 non-null    object \n",
      " 7   Delta 15 N (o/oo)    344 non-null    float64\n",
      " 8   Delta 13 C (o/oo)    344 non-null    float64\n",
      " 9   day                  344 non-null    int32  \n",
      "dtypes: float64(6), int32(1), object(3)\n",
      "memory usage: 25.7+ KB\n"
     ]
    }
   ],
   "source": [
    "df = wrangle(penguin_raw)\n",
    "df.info()"
   ]
  },
  {
   "cell_type": "code",
   "execution_count": 5,
   "id": "f7fe1773-20cc-4e7e-9a93-027229d5b0eb",
   "metadata": {},
   "outputs": [
    {
     "name": "stdout",
     "output_type": "stream",
     "text": [
      "Culmen Length (mm)     0.053272\n",
      "Culmen Depth (mm)     -0.143880\n",
      "Flipper Length (mm)    0.346682\n",
      "Body Mass (g)          0.471690\n",
      "Delta 15 N (o/oo)      0.243952\n",
      "Delta 13 C (o/oo)      0.344291\n",
      "day                    0.003875\n",
      "dtype: float64\n"
     ]
    },
    {
     "data": {
      "text/html": [
       "<div>\n",
       "<style scoped>\n",
       "    .dataframe tbody tr th:only-of-type {\n",
       "        vertical-align: middle;\n",
       "    }\n",
       "\n",
       "    .dataframe tbody tr th {\n",
       "        vertical-align: top;\n",
       "    }\n",
       "\n",
       "    .dataframe thead th {\n",
       "        text-align: right;\n",
       "    }\n",
       "</style>\n",
       "<table border=\"1\" class=\"dataframe\">\n",
       "  <thead>\n",
       "    <tr style=\"text-align: right;\">\n",
       "      <th></th>\n",
       "      <th>Culmen Length (mm)</th>\n",
       "      <th>Culmen Depth (mm)</th>\n",
       "      <th>Flipper Length (mm)</th>\n",
       "      <th>Body Mass (g)</th>\n",
       "      <th>Delta 15 N (o/oo)</th>\n",
       "      <th>Delta 13 C (o/oo)</th>\n",
       "      <th>day</th>\n",
       "    </tr>\n",
       "  </thead>\n",
       "  <tbody>\n",
       "    <tr>\n",
       "      <th>count</th>\n",
       "      <td>344.000000</td>\n",
       "      <td>344.000000</td>\n",
       "      <td>344.000000</td>\n",
       "      <td>344.000000</td>\n",
       "      <td>344.000000</td>\n",
       "      <td>344.000000</td>\n",
       "      <td>344.000000</td>\n",
       "    </tr>\n",
       "    <tr>\n",
       "      <th>mean</th>\n",
       "      <td>43.921930</td>\n",
       "      <td>17.151170</td>\n",
       "      <td>200.915205</td>\n",
       "      <td>4201.754386</td>\n",
       "      <td>8.733382</td>\n",
       "      <td>-25.686292</td>\n",
       "      <td>15.645349</td>\n",
       "    </tr>\n",
       "    <tr>\n",
       "      <th>std</th>\n",
       "      <td>5.443643</td>\n",
       "      <td>1.969027</td>\n",
       "      <td>14.020657</td>\n",
       "      <td>799.613058</td>\n",
       "      <td>0.540392</td>\n",
       "      <td>0.778770</td>\n",
       "      <td>7.924338</td>\n",
       "    </tr>\n",
       "    <tr>\n",
       "      <th>min</th>\n",
       "      <td>32.100000</td>\n",
       "      <td>13.100000</td>\n",
       "      <td>172.000000</td>\n",
       "      <td>2700.000000</td>\n",
       "      <td>7.632200</td>\n",
       "      <td>-27.018540</td>\n",
       "      <td>1.000000</td>\n",
       "    </tr>\n",
       "    <tr>\n",
       "      <th>25%</th>\n",
       "      <td>39.275000</td>\n",
       "      <td>15.600000</td>\n",
       "      <td>190.000000</td>\n",
       "      <td>3550.000000</td>\n",
       "      <td>8.307415</td>\n",
       "      <td>-26.285460</td>\n",
       "      <td>9.000000</td>\n",
       "    </tr>\n",
       "    <tr>\n",
       "      <th>50%</th>\n",
       "      <td>44.250000</td>\n",
       "      <td>17.300000</td>\n",
       "      <td>197.000000</td>\n",
       "      <td>4050.000000</td>\n",
       "      <td>8.687455</td>\n",
       "      <td>-25.793660</td>\n",
       "      <td>16.000000</td>\n",
       "    </tr>\n",
       "    <tr>\n",
       "      <th>75%</th>\n",
       "      <td>48.500000</td>\n",
       "      <td>18.700000</td>\n",
       "      <td>213.000000</td>\n",
       "      <td>4750.000000</td>\n",
       "      <td>9.136170</td>\n",
       "      <td>-25.089467</td>\n",
       "      <td>22.000000</td>\n",
       "    </tr>\n",
       "    <tr>\n",
       "      <th>max</th>\n",
       "      <td>59.600000</td>\n",
       "      <td>21.500000</td>\n",
       "      <td>231.000000</td>\n",
       "      <td>6300.000000</td>\n",
       "      <td>10.025440</td>\n",
       "      <td>-23.787670</td>\n",
       "      <td>30.000000</td>\n",
       "    </tr>\n",
       "  </tbody>\n",
       "</table>\n",
       "</div>"
      ],
      "text/plain": [
       "       Culmen Length (mm)  Culmen Depth (mm)  Flipper Length (mm)  \\\n",
       "count          344.000000         344.000000           344.000000   \n",
       "mean            43.921930          17.151170           200.915205   \n",
       "std              5.443643           1.969027            14.020657   \n",
       "min             32.100000          13.100000           172.000000   \n",
       "25%             39.275000          15.600000           190.000000   \n",
       "50%             44.250000          17.300000           197.000000   \n",
       "75%             48.500000          18.700000           213.000000   \n",
       "max             59.600000          21.500000           231.000000   \n",
       "\n",
       "       Body Mass (g)  Delta 15 N (o/oo)  Delta 13 C (o/oo)         day  \n",
       "count     344.000000         344.000000         344.000000  344.000000  \n",
       "mean     4201.754386           8.733382         -25.686292   15.645349  \n",
       "std       799.613058           0.540392           0.778770    7.924338  \n",
       "min      2700.000000           7.632200         -27.018540    1.000000  \n",
       "25%      3550.000000           8.307415         -26.285460    9.000000  \n",
       "50%      4050.000000           8.687455         -25.793660   16.000000  \n",
       "75%      4750.000000           9.136170         -25.089467   22.000000  \n",
       "max      6300.000000          10.025440         -23.787670   30.000000  "
      ]
     },
     "execution_count": 5,
     "metadata": {},
     "output_type": "execute_result"
    }
   ],
   "source": [
    "#summary statistics for numerical variables\n",
    "df_numerical = df[df.select_dtypes(include= ['float64','int32']).columns]\n",
    "print(df_numerical.skew())\n",
    "df_numerical.describe()"
   ]
  },
  {
   "cell_type": "code",
   "execution_count": 6,
   "id": "3fb4bbac-f166-4257-9b31-69aa94931afa",
   "metadata": {},
   "outputs": [
    {
     "data": {
      "image/png": "[encoded data removed]",
      "text/plain": [
       "<Figure size 1200x1000 with 9 Axes>"
      ]
     },
     "metadata": {},
     "output_type": "display_data"
    }
   ],
   "source": [
    "import matplotlib.pyplot as plt\n",
    "import seaborn as sns\n",
    "import plotly.express as px\n",
    "#create histograms to understand data distribution\n",
    "df_numerical.hist(figsize=(12, 10), bins=30, edgecolor=\"black\")\n",
    "plt.subplots_adjust(hspace=0.7, wspace=0.4)"
   ]
  },
  {
   "cell_type": "code",
   "execution_count": 7,
   "id": "aa706799-ac6a-49a7-97ac-503a394c36f9",
   "metadata": {},
   "outputs": [
    {
     "data": {
      "text/html": [
       "<div>\n",
       "<style scoped>\n",
       "    .dataframe tbody tr th:only-of-type {\n",
       "        vertical-align: middle;\n",
       "    }\n",
       "\n",
       "    .dataframe tbody tr th {\n",
       "        vertical-align: top;\n",
       "    }\n",
       "\n",
       "    .dataframe thead th {\n",
       "        text-align: right;\n",
       "    }\n",
       "</style>\n",
       "<table border=\"1\" class=\"dataframe\">\n",
       "  <thead>\n",
       "    <tr style=\"text-align: right;\">\n",
       "      <th></th>\n",
       "      <th>Culmen Length (mm)</th>\n",
       "      <th>Culmen Depth (mm)</th>\n",
       "      <th>Flipper Length (mm)</th>\n",
       "      <th>Body Mass (g)</th>\n",
       "      <th>Delta 15 N (o/oo)</th>\n",
       "      <th>Delta 13 C (o/oo)</th>\n",
       "      <th>day</th>\n",
       "    </tr>\n",
       "  </thead>\n",
       "  <tbody>\n",
       "    <tr>\n",
       "      <th>Culmen Length (mm)</th>\n",
       "      <td>1.00</td>\n",
       "      <td>-0.24</td>\n",
       "      <td>0.66</td>\n",
       "      <td>0.60</td>\n",
       "      <td>-0.06</td>\n",
       "      <td>0.19</td>\n",
       "      <td>0.30</td>\n",
       "    </tr>\n",
       "    <tr>\n",
       "      <th>Culmen Depth (mm)</th>\n",
       "      <td>-0.24</td>\n",
       "      <td>1.00</td>\n",
       "      <td>-0.58</td>\n",
       "      <td>-0.47</td>\n",
       "      <td>0.60</td>\n",
       "      <td>0.42</td>\n",
       "      <td>0.06</td>\n",
       "    </tr>\n",
       "    <tr>\n",
       "      <th>Flipper Length (mm)</th>\n",
       "      <td>0.66</td>\n",
       "      <td>-0.58</td>\n",
       "      <td>1.00</td>\n",
       "      <td>0.87</td>\n",
       "      <td>-0.50</td>\n",
       "      <td>-0.37</td>\n",
       "      <td>0.03</td>\n",
       "    </tr>\n",
       "    <tr>\n",
       "      <th>Body Mass (g)</th>\n",
       "      <td>0.60</td>\n",
       "      <td>-0.47</td>\n",
       "      <td>0.87</td>\n",
       "      <td>1.00</td>\n",
       "      <td>-0.53</td>\n",
       "      <td>-0.37</td>\n",
       "      <td>-0.07</td>\n",
       "    </tr>\n",
       "    <tr>\n",
       "      <th>Delta 15 N (o/oo)</th>\n",
       "      <td>-0.06</td>\n",
       "      <td>0.60</td>\n",
       "      <td>-0.50</td>\n",
       "      <td>-0.53</td>\n",
       "      <td>1.00</td>\n",
       "      <td>0.57</td>\n",
       "      <td>0.16</td>\n",
       "    </tr>\n",
       "    <tr>\n",
       "      <th>Delta 13 C (o/oo)</th>\n",
       "      <td>0.19</td>\n",
       "      <td>0.42</td>\n",
       "      <td>-0.37</td>\n",
       "      <td>-0.37</td>\n",
       "      <td>0.57</td>\n",
       "      <td>1.00</td>\n",
       "      <td>0.55</td>\n",
       "    </tr>\n",
       "    <tr>\n",
       "      <th>day</th>\n",
       "      <td>0.30</td>\n",
       "      <td>0.06</td>\n",
       "      <td>0.03</td>\n",
       "      <td>-0.07</td>\n",
       "      <td>0.16</td>\n",
       "      <td>0.55</td>\n",
       "      <td>1.00</td>\n",
       "    </tr>\n",
       "  </tbody>\n",
       "</table>\n",
       "</div>"
      ],
      "text/plain": [
       "                     Culmen Length (mm)  Culmen Depth (mm)  \\\n",
       "Culmen Length (mm)                 1.00              -0.24   \n",
       "Culmen Depth (mm)                 -0.24               1.00   \n",
       "Flipper Length (mm)                0.66              -0.58   \n",
       "Body Mass (g)                      0.60              -0.47   \n",
       "Delta 15 N (o/oo)                 -0.06               0.60   \n",
       "Delta 13 C (o/oo)                  0.19               0.42   \n",
       "day                                0.30               0.06   \n",
       "\n",
       "                     Flipper Length (mm)  Body Mass (g)  Delta 15 N (o/oo)  \\\n",
       "Culmen Length (mm)                  0.66           0.60              -0.06   \n",
       "Culmen Depth (mm)                  -0.58          -0.47               0.60   \n",
       "Flipper Length (mm)                 1.00           0.87              -0.50   \n",
       "Body Mass (g)                       0.87           1.00              -0.53   \n",
       "Delta 15 N (o/oo)                  -0.50          -0.53               1.00   \n",
       "Delta 13 C (o/oo)                  -0.37          -0.37               0.57   \n",
       "day                                 0.03          -0.07               0.16   \n",
       "\n",
       "                     Delta 13 C (o/oo)   day  \n",
       "Culmen Length (mm)                0.19  0.30  \n",
       "Culmen Depth (mm)                 0.42  0.06  \n",
       "Flipper Length (mm)              -0.37  0.03  \n",
       "Body Mass (g)                    -0.37 -0.07  \n",
       "Delta 15 N (o/oo)                 0.57  0.16  \n",
       "Delta 13 C (o/oo)                 1.00  0.55  \n",
       "day                               0.55  1.00  "
      ]
     },
     "execution_count": 7,
     "metadata": {},
     "output_type": "execute_result"
    }
   ],
   "source": [
    "# correlation matrix\n",
    "df_numerical.corr().round(2)"
   ]
  },
  {
   "cell_type": "markdown",
   "id": "24a5daeb-4f76-449e-98a9-60cd25d2c644",
   "metadata": {},
   "source": [
    "## model building"
   ]
  },
  {
   "cell_type": "code",
   "execution_count": 9,
   "id": "56f78723-1fe9-4fd1-a3e0-0f95b8f3733d",
   "metadata": {},
   "outputs": [],
   "source": [
    "#import libraries\n",
    "import numpy as np\n",
    "from sklearn.preprocessing import OneHotEncoder\n",
    "from sklearn.linear_model import LinearRegression, Ridge  \n",
    "from sklearn.metrics import mean_absolute_error\n",
    "from sklearn.pipeline import Pipeline\n",
    "from sklearn.linear_model import RidgeCV\n",
    "from sklearn.model_selection import cross_validate\n",
    "from sklearn.preprocessing import StandardScaler\n",
    "from sklearn.compose import ColumnTransformer\n",
    "from sklearn.ensemble import RandomForestRegressor"
   ]
  },
  {
   "cell_type": "code",
   "execution_count": 10,
   "id": "381343c1-7736-4c83-b9d0-2b907aa8315a",
   "metadata": {},
   "outputs": [],
   "source": [
    "#select target &predictors\n",
    "y = df['Body Mass (g)']\n",
    "X = df.drop(columns= 'Body Mass (g)', axis =1)\n",
    "\n",
    "# Select the numerical/categorical columns\n",
    "numerical_cols = X.select_dtypes(include= ['float64','int64']).columns\n",
    "categorical_cols = X.select_dtypes(include= ['object']).columns\n",
    "\n",
    "# Numerical pipeline\n",
    "numerical_transformer = Pipeline([('scaler',StandardScaler())])\n",
    "#categorical pipeline\n",
    "categorical_transformer = Pipeline([('encoder',OneHotEncoder(drop='first', handle_unknown='ignore'))\n",
    "                                     ])\n",
    "#combine \n",
    "preprocessor =  ColumnTransformer([\n",
    "        ('num', numerical_transformer, numerical_cols),\n",
    "        ('cat', categorical_transformer, categorical_cols)\n",
    "])\n",
    "\n",
    "X_preprocessed = preprocessor.fit_transform(X)"
   ]
  },
  {
   "cell_type": "code",
   "execution_count": 11,
   "id": "798ff01c-1609-42fa-bcb1-547cd91413c6",
   "metadata": {},
   "outputs": [
    {
     "data": {
      "text/plain": [
       "(344, 9)"
      ]
     },
     "execution_count": 11,
     "metadata": {},
     "output_type": "execute_result"
    }
   ],
   "source": [
    "X_preprocessed.shape"
   ]
  },
  {
   "cell_type": "code",
   "execution_count": 19,
   "id": "33b0d241-7efb-4537-8a6f-01b04636b16c",
   "metadata": {},
   "outputs": [
    {
     "data": {
      "text/plain": [
       "(344, 9)"
      ]
     },
     "execution_count": 19,
     "metadata": {},
     "output_type": "execute_result"
    }
   ],
   "source": [
    "X.shape"
   ]
  },
  {
   "cell_type": "code",
   "execution_count": 21,
   "id": "14800050-88d5-4076-9910-c486a8178afd",
   "metadata": {},
   "outputs": [
    {
     "data": {
      "text/plain": [
       "(275, 9)"
      ]
     },
     "execution_count": 21,
     "metadata": {},
     "output_type": "execute_result"
    }
   ],
   "source": [
    "#traintest split\n",
    "from sklearn.model_selection import train_test_split \n",
    "X_train, X_test, y_train, y_test = train_test_split(X, y, test_size=0.2, random_state=0)\n",
    "X_train.shape"
   ]
  },
  {
   "cell_type": "markdown",
   "id": "08f41f4c-c45c-4e0f-858b-407e3c2e256b",
   "metadata": {},
   "source": [
    "## model selection"
   ]
  },
  {
   "cell_type": "code",
   "execution_count": 68,
   "id": "9282d24c-f755-4569-b50b-78d6e96b822d",
   "metadata": {},
   "outputs": [
    {
     "data": {
      "text/plain": [
       "673.6816381128775"
      ]
     },
     "execution_count": 68,
     "metadata": {},
     "output_type": "execute_result"
    }
   ],
   "source": [
    "#baseline\n",
    "y_pred_baseline = [y.mean()]*len(y_train)\n",
    "mae_baseline = mean_absolute_error(y_pred_baseline,y_train)\n",
    "mae_baseline"
   ]
  },
  {
   "cell_type": "code",
   "execution_count": 35,
   "id": "3d40b13f-be12-4ef3-91ad-1e6c2aba548f",
   "metadata": {},
   "outputs": [
    {
     "name": "stdout",
     "output_type": "stream",
     "text": [
      "Rsquared on training data: 0.8590550811835856\n",
      "Mean absolute error on training data: 235.18253530149306\n",
      "negRMSE for linear regression:-308.5281957276497\n"
     ]
    }
   ],
   "source": [
    "#linear regression\n",
    "from sklearn.model_selection import cross_val_score\n",
    "model = LinearRegression()\n",
    "#model evaluation using train data\n",
    "complete_pipeline = Pipeline([('preprocessor',preprocessor),\n",
    "                 ('estimator',LinearRegression())\n",
    "                 ])\n",
    "complete_pipeline.fit(X_train, y_train)\n",
    "score = complete_pipeline.score(X_train, y_train)\n",
    "print('Rsquared on training data:',score)\n",
    "y_pred_training = complete_pipeline.predict(X_train)\n",
    "print('Mean absolute error on training data:',mean_absolute_error(y_pred_training,y_train))\n",
    "scores = cross_val_score(complete_pipeline, X_train, y_train, scoring=\"neg_root_mean_squared_error\", cv=3)\n",
    "print(f\"negRMSE for linear regression:{scores.mean()}\")"
   ]
  },
  {
   "cell_type": "code",
   "execution_count": 37,
   "id": "e9580b3b-0302-4e55-be0f-8c7558f3b8b5",
   "metadata": {},
   "outputs": [
    {
     "name": "stdout",
     "output_type": "stream",
     "text": [
      "Rsquared on training data: 0.9783138890709658\n",
      "Mean absolute error on training data: 91.49331738436997\n",
      "negRMSE for random forest regressor:-319.2257902531335\n"
     ]
    }
   ],
   "source": [
    "#random forest\n",
    "from sklearn.model_selection import cross_val_score\n",
    "model = RandomForestRegressor(n_estimators = 100)\n",
    "#model evaluation using train data\n",
    "complete_pipeline = Pipeline([('preprocessor',preprocessor),\n",
    "                 ('estimator',RandomForestRegressor(n_estimators = 100))\n",
    "                 ])\n",
    "complete_pipeline.fit(X_train, y_train)\n",
    "score = complete_pipeline.score(X_train, y_train)\n",
    "print('Rsquared on training data:',score)\n",
    "y_pred_training = complete_pipeline.predict(X_train)\n",
    "print('Mean absolute error on training data:',mean_absolute_error(y_pred_training,y_train))\n",
    "scores = cross_val_score(complete_pipeline, X_train, y_train, scoring=\"neg_root_mean_squared_error\", cv=3)\n",
    "print(f\"negRMSE for random forest regressor:{scores.mean()}\")"
   ]
  },
  {
   "cell_type": "code",
   "execution_count": 39,
   "id": "2c88662e-4168-4e8b-ab91-fd31f45d2c61",
   "metadata": {},
   "outputs": [
    {
     "name": "stdout",
     "output_type": "stream",
     "text": [
      "Rsquared on training data: 0.9591946434563099\n",
      "Mean absolute error on training data: 124.52647879591093\n",
      "negRMSE for gradient boosting:-319.2239542312207\n"
     ]
    }
   ],
   "source": [
    "#gradient boosting\n",
    "from sklearn.model_selection import cross_val_score\n",
    "from sklearn.ensemble import GradientBoostingRegressor\n",
    "model = GradientBoostingRegressor(n_estimators=100)\n",
    "#model evaluation using train data\n",
    "complete_pipeline = Pipeline([('preprocessor',preprocessor),\n",
    "                 ('estimator',GradientBoostingRegressor(n_estimators=100))\n",
    "                 ])\n",
    "complete_pipeline.fit(X_train, y_train)\n",
    "score = complete_pipeline.score(X_train, y_train)\n",
    "print('Rsquared on training data:',score)\n",
    "y_pred_training = complete_pipeline.predict(X_train)\n",
    "print('Mean absolute error on training data:',mean_absolute_error(y_pred_training,y_train))\n",
    "scores = cross_val_score(complete_pipeline, X_train, y_train, scoring=\"neg_root_mean_squared_error\", cv=3)\n",
    "print(f\"negRMSE for gradient boosting:{scores.mean()}\")"
   ]
  },
  {
   "cell_type": "code",
   "execution_count": 41,
   "id": "bfd29f0b-7aa4-4966-a0f0-b63bb3302b35",
   "metadata": {},
   "outputs": [
    {
     "name": "stdout",
     "output_type": "stream",
     "text": [
      "Rsquared on training data: 0.8590493481889305\n",
      "Mean absolute error on training data: 235.26790216379348\n",
      "negRMSE for ridge:-308.4660796611499\n"
     ]
    }
   ],
   "source": [
    "#ridge\n",
    "model = Ridge(alpha =0.1)\n",
    "#model evaluation using train data\n",
    "complete_pipeline = Pipeline([('preprocessor',preprocessor),\n",
    "                 ('estimator',Ridge(alpha =0.1))\n",
    "                 ])\n",
    "complete_pipeline.fit(X_train, y_train)\n",
    "score = complete_pipeline.score(X_train, y_train)\n",
    "print('Rsquared on training data:',score)\n",
    "y_pred_training = complete_pipeline.predict(X_train)\n",
    "print('Mean absolute error on training data:',mean_absolute_error(y_pred_training,y_train))\n",
    "scores = cross_val_score(complete_pipeline, X_train, y_train, scoring=\"neg_root_mean_squared_error\", cv=3)\n",
    "print(f\"negRMSE for ridge:{scores.mean()}\")"
   ]
  },
  {
   "cell_type": "code",
   "execution_count": 43,
   "id": "2b309614-a37a-4b56-aa99-dc70eaee9e6f",
   "metadata": {},
   "outputs": [
    {
     "name": "stdout",
     "output_type": "stream",
     "text": [
      "Rsquared on training data: 0.9999974414834757\n",
      "Mean absolute error on training data: 0.8594522372159091\n",
      "negRMSE for XGBOOST:-344.64583752828366\n"
     ]
    }
   ],
   "source": [
    "#XGBOOST\n",
    "from xgboost import XGBRegressor\n",
    "model = XGBRegressor(n_estimators=100)\n",
    "#model evaluation using train data\n",
    "complete_pipeline = Pipeline([('preprocessor',preprocessor),\n",
    "                 ('estimator',XGBRegressor(n_estimators=100))\n",
    "                 ])\n",
    "complete_pipeline.fit(X_train, y_train)\n",
    "score = complete_pipeline.score(X_train, y_train)\n",
    "print('Rsquared on training data:',score)\n",
    "y_pred_training = complete_pipeline.predict(X_train)\n",
    "print('Mean absolute error on training data:',mean_absolute_error(y_pred_training,y_train))\n",
    "scores = cross_val_score(complete_pipeline, X_train, y_train, scoring=\"neg_root_mean_squared_error\", cv=3)\n",
    "print(f\"negRMSE for XGBOOST:{scores.mean()}\")"
   ]
  },
  {
   "cell_type": "markdown",
   "id": "65d00d3c-0464-4f67-b8bd-93810fb75e54",
   "metadata": {},
   "source": [
    "## Hyperparameter tuning"
   ]
  },
  {
   "cell_type": "code",
   "execution_count": 45,
   "id": "58f9b513-1341-4f5f-b6c8-7838632a3b05",
   "metadata": {},
   "outputs": [
    {
     "name": "stdout",
     "output_type": "stream",
     "text": [
      "Fitting 5 folds for each of 9 candidates, totalling 45 fits\n",
      "Best Hyperparameters: {'ridge__alpha': 1}\n",
      "Best Cross-validation Score: -97143.34036681803\n"
     ]
    }
   ],
   "source": [
    "import warnings\n",
    "warnings.filterwarnings(\"ignore\", message=\"Found unknown categories in columns\")\n",
    "\n",
    "# ridge performed better that the other models\n",
    "from sklearn.model_selection import GridSearchCV\n",
    "# Define the Ridge model\n",
    "complete_pipeline = Pipeline([('preprocessor',preprocessor),\n",
    "                 ('ridge',Ridge())\n",
    "                 ])\n",
    "\n",
    "# Set up the parameter grid for the hyperparameters you want to search\n",
    "param_grid = {'ridge__alpha':[0.1, 1, 5, 10, 20, 30, 40, 50, 100] }# Regularization strength\n",
    "\n",
    "# Set up GridSearchCV with Ridge regression model and the parameter grid\n",
    "grid_search = GridSearchCV(estimator=complete_pipeline, param_grid=param_grid, cv=5, scoring='neg_mean_squared_error', verbose =1)\n",
    "# fit the grid search \n",
    "grid_search.fit(X_train, y_train)\n",
    "\n",
    "# Get the best parameters and best score\n",
    "print(\"Best Hyperparameters:\", grid_search.best_params_)\n",
    "print(\"Best Cross-validation Score:\", grid_search.best_score_)"
   ]
  },
  {
   "cell_type": "markdown",
   "id": "03c1e505-02e4-4b10-9994-e0b59a7c91b3",
   "metadata": {},
   "source": [
    "## feature importance "
   ]
  },
  {
   "cell_type": "code",
   "execution_count": 47,
   "id": "a50a1f01-e24f-4054-b560-bcb2414ce4b6",
   "metadata": {},
   "outputs": [
    {
     "name": "stdout",
     "output_type": "stream",
     "text": [
      "[array(['Adelie Penguin (Pygoscelis adeliae)',\n",
      "       'Chinstrap penguin (Pygoscelis antarctica)',\n",
      "       'Gentoo penguin (Pygoscelis papua)'], dtype=object), array(['No', 'Yes'], dtype=object), array(['FEMALE', 'MALE'], dtype=object)]\n",
      "['Culmen Length (mm)', 'Culmen Depth (mm)', 'Flipper Length (mm)', 'Delta 15 N (o/oo)', 'Delta 13 C (o/oo)', 'Species_Chinstrap penguin (Pygoscelis antarctica)', 'Species_Gentoo penguin (Pygoscelis papua)', 'Clutch Completion_Yes', 'Sex_MALE']\n"
     ]
    }
   ],
   "source": [
    "# Fit the entire preprocessor first\n",
    "preprocessor.fit(X)\n",
    "\n",
    "# Access the categories_ of OneHotEncoder (if you want to inspect the categories for each column)\n",
    "print(preprocessor.named_transformers_['cat'].named_steps['encoder'].categories_)\n",
    "\n",
    "# After transformation, if you want the transformed column names:\n",
    "# You can get the feature names from the transformed data (this includes the one-hot encoded features)\n",
    "import pandas as pd\n",
    "\n",
    "# Apply the preprocessor to the input data and get the transformed features\n",
    "X_transformed = preprocessor.transform(X)\n",
    "\n",
    "# Get the column names for the transformed features\n",
    "column_names = numerical_cols.tolist() + list(preprocessor.named_transformers_['cat'].named_steps['encoder'].get_feature_names_out(categorical_cols))\n",
    "\n",
    "# Print the column names of the transformed data\n",
    "print(column_names)\n"
   ]
  },
  {
   "cell_type": "code",
   "execution_count": 49,
   "id": "c4080171-d902-4305-8dda-9fc5eb1b880a",
   "metadata": {},
   "outputs": [
    {
     "data": {
      "image/png": "[encoded data removed]",
      "text/plain": [
       "<Figure size 640x480 with 1 Axes>"
      ]
     },
     "metadata": {},
     "output_type": "display_data"
    }
   ],
   "source": [
    "#feature importance from the ridge\n",
    "complete_pipeline = Pipeline([('preprocessor',preprocessor),\n",
    "                 ('ridge',Ridge())\n",
    "                 ])\n",
    "complete_pipeline.fit(X, y=y)\n",
    "importance = pd.DataFrame(complete_pipeline.steps[1][1].coef_,\n",
    "                          index =column_names , \n",
    "                          columns = [\"Importance\"]).sort_values(by= \"Importance\", ascending= False)\n",
    "importance.plot(kind = 'barh',title='feature importance from the ridge');"
   ]
  },
  {
   "cell_type": "code",
   "execution_count": 51,
   "id": "8d7eea2e-4a4f-475a-b0a5-113b2ee32c48",
   "metadata": {},
   "outputs": [
    {
     "data": {
      "image/png": "[encoded data removed]",
      "text/plain": [
       "<Figure size 640x480 with 1 Axes>"
      ]
     },
     "metadata": {},
     "output_type": "display_data"
    }
   ],
   "source": [
    "#feature importance from the random forest\n",
    "complete_pipeline = Pipeline([('preprocessor',preprocessor),\n",
    "                 ('forest',RandomForestRegressor())\n",
    "                 ])\n",
    "complete_pipeline.fit(X, y=y)\n",
    "importance = pd.DataFrame(complete_pipeline.steps[1][1].feature_importances_,\n",
    "                          index = column_names, \n",
    "                          columns = [\"Importance\"]).sort_values(by= \"Importance\", ascending= False)\n",
    "importance.plot(kind = 'barh', title='feature importance from the random forest');"
   ]
  },
  {
   "cell_type": "markdown",
   "id": "b647a47d-514a-457e-9243-c4a3ae8b1922",
   "metadata": {},
   "source": [
    "## model evaluation"
   ]
  },
  {
   "cell_type": "code",
   "execution_count": 53,
   "id": "c7ca40cb-5e6f-4663-bf61-c9659c21c802",
   "metadata": {},
   "outputs": [
    {
     "name": "stdout",
     "output_type": "stream",
     "text": [
      "Rsquared on test data for ridge: 0.9156811278015655\n",
      "Mean absolute error on test data for ridge: 187.25711727485643\n"
     ]
    }
   ],
   "source": [
    "#model evaluation using test data\n",
    "complete_pipeline = Pipeline([('preprocessor',preprocessor),\n",
    "                 ('estimator',Ridge())\n",
    "                 ])\n",
    "complete_pipeline.fit(X_test, y_test)\n",
    "score = complete_pipeline.score(X_test, y_test)\n",
    "print('Rsquared on test data for ridge:',score)\n",
    "y_pred_test = complete_pipeline.predict(X_test)\n",
    "print('Mean absolute error on test data for ridge:',mean_absolute_error(y_pred_test,y_test))"
   ]
  },
  {
   "cell_type": "code",
   "execution_count": 55,
   "id": "0784f6b7-905a-4623-abcd-6289b32c3e74",
   "metadata": {},
   "outputs": [
    {
     "name": "stdout",
     "output_type": "stream",
     "text": [
      "Rsquared on training data: 0.9195160762442228\n",
      "Mean absolute error on training data: 186.48302009730241\n"
     ]
    }
   ],
   "source": [
    "#model evaluation using train data\n",
    "complete_pipeline = Pipeline([('preprocessor',preprocessor),\n",
    "                 ('estimator',LinearRegression())\n",
    "                 ])\n",
    "complete_pipeline.fit(X_test, y_test)\n",
    "score = complete_pipeline.score(X_test, y_test)\n",
    "print('Rsquared on training data:',score)\n",
    "y_pred_test = complete_pipeline.predict(X_test)\n",
    "print('Mean absolute error on training data:',mean_absolute_error(y_pred_test,y_test))"
   ]
  },
  {
   "cell_type": "markdown",
   "id": "1685c736-4c68-49a5-a35a-fb75864b2947",
   "metadata": {},
   "source": [
    "## the model is performing better on test data which could signify issues"
   ]
  },
  {
   "cell_type": "code",
   "execution_count": null,
   "id": "76577369-ecd4-4785-b77b-2ac6b171d888",
   "metadata": {},
   "outputs": [],
   "source": []
  }
 ],
 "metadata": {
  "kernelspec": {
   "display_name": "Python 3 (ipykernel)",
   "language": "python",
   "name": "python3"
  },
  "language_info": {
   "codemirror_mode": {
    "name": "ipython",
    "version": 3
   },
   "file_extension": ".py",
   "mimetype": "text/x-python",
   "name": "python",
   "nbconvert_exporter": "python",
   "pygments_lexer": "ipython3",
   "version": "3.11.7"
  }
 },
 "nbformat": 4,
 "nbformat_minor": 5
}
